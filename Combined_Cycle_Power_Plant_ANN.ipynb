{
  "nbformat": 4,
  "nbformat_minor": 0,
  "metadata": {
    "colab": {
      "name": "Combined_Cycle_Power_Plant_ANN.ipynb",
      "provenance": [],
      "collapsed_sections": [],
      "authorship_tag": "ABX9TyPo4Sda0x6VBz+EUxLvxAh0",
      "include_colab_link": true
    },
    "kernelspec": {
      "name": "python3",
      "display_name": "Python 3"
    },
    "language_info": {
      "name": "python"
    },
    "accelerator": "GPU"
  },
  "cells": [
    {
      "cell_type": "markdown",
      "metadata": {
        "id": "view-in-github",
        "colab_type": "text"
      },
      "source": [
        "<a href=\"https://colab.research.google.com/github/Sayanik-tech/Deep_Learning-ANN/blob/main/Combined_Cycle_Power_Plant_ANN.ipynb\" target=\"_parent\"><img src=\"https://colab.research.google.com/assets/colab-badge.svg\" alt=\"Open In Colab\"/></a>"
      ]
    },
    {
      "cell_type": "code",
      "metadata": {
        "id": "GlyLnRkwC17R"
      },
      "source": [
        "import numpy as np\n",
        "import pandas as pd\n",
        "import tensorflow as tf"
      ],
      "execution_count": 81,
      "outputs": []
    },
    {
      "cell_type": "code",
      "metadata": {
        "colab": {
          "base_uri": "https://localhost:8080/",
          "height": 204
        },
        "id": "IZ5JFeQbKbtQ",
        "outputId": "05b00dfd-6a06-41ad-b143-e6a2c38240f9"
      },
      "source": [
        "dataset = pd.read_excel('CCPP.xlsx')\n",
        "dataset.head()"
      ],
      "execution_count": 82,
      "outputs": [
        {
          "output_type": "execute_result",
          "data": {
            "text/html": [
              "<div>\n",
              "<style scoped>\n",
              "    .dataframe tbody tr th:only-of-type {\n",
              "        vertical-align: middle;\n",
              "    }\n",
              "\n",
              "    .dataframe tbody tr th {\n",
              "        vertical-align: top;\n",
              "    }\n",
              "\n",
              "    .dataframe thead th {\n",
              "        text-align: right;\n",
              "    }\n",
              "</style>\n",
              "<table border=\"1\" class=\"dataframe\">\n",
              "  <thead>\n",
              "    <tr style=\"text-align: right;\">\n",
              "      <th></th>\n",
              "      <th>AT</th>\n",
              "      <th>V</th>\n",
              "      <th>AP</th>\n",
              "      <th>RH</th>\n",
              "      <th>PE</th>\n",
              "    </tr>\n",
              "  </thead>\n",
              "  <tbody>\n",
              "    <tr>\n",
              "      <th>0</th>\n",
              "      <td>14.96</td>\n",
              "      <td>41.76</td>\n",
              "      <td>1024.07</td>\n",
              "      <td>73.17</td>\n",
              "      <td>463.26</td>\n",
              "    </tr>\n",
              "    <tr>\n",
              "      <th>1</th>\n",
              "      <td>25.18</td>\n",
              "      <td>62.96</td>\n",
              "      <td>1020.04</td>\n",
              "      <td>59.08</td>\n",
              "      <td>444.37</td>\n",
              "    </tr>\n",
              "    <tr>\n",
              "      <th>2</th>\n",
              "      <td>5.11</td>\n",
              "      <td>39.40</td>\n",
              "      <td>1012.16</td>\n",
              "      <td>92.14</td>\n",
              "      <td>488.56</td>\n",
              "    </tr>\n",
              "    <tr>\n",
              "      <th>3</th>\n",
              "      <td>20.86</td>\n",
              "      <td>57.32</td>\n",
              "      <td>1010.24</td>\n",
              "      <td>76.64</td>\n",
              "      <td>446.48</td>\n",
              "    </tr>\n",
              "    <tr>\n",
              "      <th>4</th>\n",
              "      <td>10.82</td>\n",
              "      <td>37.50</td>\n",
              "      <td>1009.23</td>\n",
              "      <td>96.62</td>\n",
              "      <td>473.90</td>\n",
              "    </tr>\n",
              "  </tbody>\n",
              "</table>\n",
              "</div>"
            ],
            "text/plain": [
              "      AT      V       AP     RH      PE\n",
              "0  14.96  41.76  1024.07  73.17  463.26\n",
              "1  25.18  62.96  1020.04  59.08  444.37\n",
              "2   5.11  39.40  1012.16  92.14  488.56\n",
              "3  20.86  57.32  1010.24  76.64  446.48\n",
              "4  10.82  37.50  1009.23  96.62  473.90"
            ]
          },
          "metadata": {},
          "execution_count": 82
        }
      ]
    },
    {
      "cell_type": "code",
      "metadata": {
        "colab": {
          "base_uri": "https://localhost:8080/"
        },
        "id": "TBUAKWONKrqm",
        "outputId": "f59bb4dc-9684-435f-b06f-a3a5c45333f9"
      },
      "source": [
        "x = dataset.iloc[: , :-1].values\n",
        "y = dataset.iloc[: , -1].values\n",
        "print(x)\n",
        "print(y)"
      ],
      "execution_count": 83,
      "outputs": [
        {
          "output_type": "stream",
          "text": [
            "[[  14.96   41.76 1024.07   73.17]\n",
            " [  25.18   62.96 1020.04   59.08]\n",
            " [   5.11   39.4  1012.16   92.14]\n",
            " ...\n",
            " [  31.32   74.33 1012.92   36.48]\n",
            " [  24.48   69.45 1013.86   62.39]\n",
            " [  21.6    62.52 1017.23   67.87]]\n",
            "[463.26 444.37 488.56 ... 429.57 435.74 453.28]\n"
          ],
          "name": "stdout"
        }
      ]
    },
    {
      "cell_type": "code",
      "metadata": {
        "colab": {
          "base_uri": "https://localhost:8080/",
          "height": 204
        },
        "id": "sbHXfUYUME7_",
        "outputId": "0c983432-1b63-4551-a5f4-7d122bc30759"
      },
      "source": [
        "dataset.rename(columns={'AT':'Temperature','V':'Vaccum','AP':'Pressure','RH':'Humidity','PE':'Output_Energy'},inplace = True)\n",
        "dataset.head()"
      ],
      "execution_count": 84,
      "outputs": [
        {
          "output_type": "execute_result",
          "data": {
            "text/html": [
              "<div>\n",
              "<style scoped>\n",
              "    .dataframe tbody tr th:only-of-type {\n",
              "        vertical-align: middle;\n",
              "    }\n",
              "\n",
              "    .dataframe tbody tr th {\n",
              "        vertical-align: top;\n",
              "    }\n",
              "\n",
              "    .dataframe thead th {\n",
              "        text-align: right;\n",
              "    }\n",
              "</style>\n",
              "<table border=\"1\" class=\"dataframe\">\n",
              "  <thead>\n",
              "    <tr style=\"text-align: right;\">\n",
              "      <th></th>\n",
              "      <th>Temperature</th>\n",
              "      <th>Vaccum</th>\n",
              "      <th>Pressure</th>\n",
              "      <th>Humidity</th>\n",
              "      <th>Output_Energy</th>\n",
              "    </tr>\n",
              "  </thead>\n",
              "  <tbody>\n",
              "    <tr>\n",
              "      <th>0</th>\n",
              "      <td>14.96</td>\n",
              "      <td>41.76</td>\n",
              "      <td>1024.07</td>\n",
              "      <td>73.17</td>\n",
              "      <td>463.26</td>\n",
              "    </tr>\n",
              "    <tr>\n",
              "      <th>1</th>\n",
              "      <td>25.18</td>\n",
              "      <td>62.96</td>\n",
              "      <td>1020.04</td>\n",
              "      <td>59.08</td>\n",
              "      <td>444.37</td>\n",
              "    </tr>\n",
              "    <tr>\n",
              "      <th>2</th>\n",
              "      <td>5.11</td>\n",
              "      <td>39.40</td>\n",
              "      <td>1012.16</td>\n",
              "      <td>92.14</td>\n",
              "      <td>488.56</td>\n",
              "    </tr>\n",
              "    <tr>\n",
              "      <th>3</th>\n",
              "      <td>20.86</td>\n",
              "      <td>57.32</td>\n",
              "      <td>1010.24</td>\n",
              "      <td>76.64</td>\n",
              "      <td>446.48</td>\n",
              "    </tr>\n",
              "    <tr>\n",
              "      <th>4</th>\n",
              "      <td>10.82</td>\n",
              "      <td>37.50</td>\n",
              "      <td>1009.23</td>\n",
              "      <td>96.62</td>\n",
              "      <td>473.90</td>\n",
              "    </tr>\n",
              "  </tbody>\n",
              "</table>\n",
              "</div>"
            ],
            "text/plain": [
              "   Temperature  Vaccum  Pressure  Humidity  Output_Energy\n",
              "0        14.96   41.76   1024.07     73.17         463.26\n",
              "1        25.18   62.96   1020.04     59.08         444.37\n",
              "2         5.11   39.40   1012.16     92.14         488.56\n",
              "3        20.86   57.32   1010.24     76.64         446.48\n",
              "4        10.82   37.50   1009.23     96.62         473.90"
            ]
          },
          "metadata": {},
          "execution_count": 84
        }
      ]
    },
    {
      "cell_type": "code",
      "metadata": {
        "id": "G6YM4D5WNRXt"
      },
      "source": [
        "from sklearn.model_selection import train_test_split\n",
        "x_train,x_test,y_train,y_test = train_test_split(x , y , test_size = 0.2 , random_state = 101)"
      ],
      "execution_count": 85,
      "outputs": []
    },
    {
      "cell_type": "code",
      "metadata": {
        "colab": {
          "base_uri": "https://localhost:8080/"
        },
        "id": "EuQ3Tg-WNV67",
        "outputId": "c16396d6-001a-4303-ca2a-6ff640a80d7d"
      },
      "source": [
        "from sklearn.preprocessing import StandardScaler\n",
        "sc = StandardScaler()\n",
        "x_train = sc.fit_transform(x_train)\n",
        "x_test = sc.transform(x_test)\n",
        "print(x_train)"
      ],
      "execution_count": 86,
      "outputs": [
        {
          "output_type": "stream",
          "text": [
            "[[ 0.59  0.8  -0.47  0.78]\n",
            " [-0.22 -0.92 -0.74 -0.57]\n",
            " [-1.2  -1.37  1.57  0.49]\n",
            " ...\n",
            " [-1.08 -1.31  0.18 -0.25]\n",
            " [-1.71 -1.16  1.1  -0.07]\n",
            " [-1.49 -1.06  0.35  1.27]]\n"
          ],
          "name": "stdout"
        }
      ]
    },
    {
      "cell_type": "markdown",
      "metadata": {
        "id": "jcp7LQ5BVNde"
      },
      "source": [
        "**Initializing ANN and adding Layers**"
      ]
    },
    {
      "cell_type": "code",
      "metadata": {
        "id": "hZhzhYAwRR3A"
      },
      "source": [
        "from tensorflow.keras.models import Sequential\n",
        "from tensorflow.keras.layers import Dense\n",
        "ann = Sequential()"
      ],
      "execution_count": 87,
      "outputs": []
    },
    {
      "cell_type": "code",
      "metadata": {
        "id": "Abq9dT4CVg8R"
      },
      "source": [
        "ann.add(Dense(8,activation = 'relu',kernel_initializer='he_uniform'))"
      ],
      "execution_count": 88,
      "outputs": []
    },
    {
      "cell_type": "code",
      "metadata": {
        "id": "w5NT7tC-XLch"
      },
      "source": [
        "ann.add(Dense(4,activation = 'sigmoid'))"
      ],
      "execution_count": 89,
      "outputs": []
    },
    {
      "cell_type": "code",
      "metadata": {
        "id": "34-pvJvIXcs0"
      },
      "source": [
        "ann.add(Dense(2,activation = 'relu',kernel_initializer='he_uniform'))"
      ],
      "execution_count": 90,
      "outputs": []
    },
    {
      "cell_type": "markdown",
      "metadata": {
        "id": "lqpcFYVbXihx"
      },
      "source": [
        "**Adding output Layer**"
      ]
    },
    {
      "cell_type": "code",
      "metadata": {
        "id": "YezBxp9rXgB0"
      },
      "source": [
        "ann.add(Dense(units = 1))   ## For classification problems it is better to use 'Sigmoid' or 'Softmax' activation function but for regression problems it is better to use No activation functions"
      ],
      "execution_count": 91,
      "outputs": []
    },
    {
      "cell_type": "markdown",
      "metadata": {
        "id": "IUj3CF6hZaeB"
      },
      "source": [
        "**Training The ANN Model(Compilation,Training**)"
      ]
    },
    {
      "cell_type": "code",
      "metadata": {
        "id": "EK7nLfCGZbgS"
      },
      "source": [
        "ann.compile(optimizer='adam',loss='mean_squared_error')"
      ],
      "execution_count": 92,
      "outputs": []
    },
    {
      "cell_type": "code",
      "metadata": {
        "colab": {
          "base_uri": "https://localhost:8080/"
        },
        "id": "OcGJYJe0ZbqX",
        "outputId": "3d00754f-7529-4a78-b86a-6b6fe5c3c4f2"
      },
      "source": [
        "ann.fit(x_train, y_train, batch_size = 32, epochs=100)"
      ],
      "execution_count": 93,
      "outputs": [
        {
          "output_type": "stream",
          "text": [
            "Epoch 1/100\n",
            "240/240 [==============================] - 1s 3ms/step - loss: 206778.8281\n",
            "Epoch 2/100\n",
            "240/240 [==============================] - 1s 3ms/step - loss: 205263.3750\n",
            "Epoch 3/100\n",
            "240/240 [==============================] - 1s 3ms/step - loss: 202870.9531\n",
            "Epoch 4/100\n",
            "240/240 [==============================] - 1s 3ms/step - loss: 199962.2188\n",
            "Epoch 5/100\n",
            "240/240 [==============================] - 1s 3ms/step - loss: 196513.8281\n",
            "Epoch 6/100\n",
            "240/240 [==============================] - 1s 3ms/step - loss: 192559.2031\n",
            "Epoch 7/100\n",
            "240/240 [==============================] - 1s 3ms/step - loss: 188142.8281\n",
            "Epoch 8/100\n",
            "240/240 [==============================] - 1s 3ms/step - loss: 183313.5781\n",
            "Epoch 9/100\n",
            "240/240 [==============================] - 1s 3ms/step - loss: 178117.8438\n",
            "Epoch 10/100\n",
            "240/240 [==============================] - 1s 3ms/step - loss: 172600.8125\n",
            "Epoch 11/100\n",
            "240/240 [==============================] - 1s 3ms/step - loss: 166805.1875\n",
            "Epoch 12/100\n",
            "240/240 [==============================] - 1s 3ms/step - loss: 160769.5625\n",
            "Epoch 13/100\n",
            "240/240 [==============================] - 1s 3ms/step - loss: 154532.0625\n",
            "Epoch 14/100\n",
            "240/240 [==============================] - 1s 3ms/step - loss: 148127.7500\n",
            "Epoch 15/100\n",
            "240/240 [==============================] - 1s 3ms/step - loss: 141589.1562\n",
            "Epoch 16/100\n",
            "240/240 [==============================] - 1s 3ms/step - loss: 134948.0938\n",
            "Epoch 17/100\n",
            "240/240 [==============================] - 1s 3ms/step - loss: 128233.2422\n",
            "Epoch 18/100\n",
            "240/240 [==============================] - 1s 3ms/step - loss: 121474.2812\n",
            "Epoch 19/100\n",
            "240/240 [==============================] - 1s 3ms/step - loss: 114699.4062\n",
            "Epoch 20/100\n",
            "240/240 [==============================] - 1s 3ms/step - loss: 107934.1016\n",
            "Epoch 21/100\n",
            "240/240 [==============================] - 1s 3ms/step - loss: 101204.9141\n",
            "Epoch 22/100\n",
            "240/240 [==============================] - 1s 3ms/step - loss: 94536.6328\n",
            "Epoch 23/100\n",
            "240/240 [==============================] - 1s 3ms/step - loss: 87954.3438\n",
            "Epoch 24/100\n",
            "240/240 [==============================] - 1s 3ms/step - loss: 81481.5703\n",
            "Epoch 25/100\n",
            "240/240 [==============================] - 1s 3ms/step - loss: 75141.7344\n",
            "Epoch 26/100\n",
            "240/240 [==============================] - 1s 3ms/step - loss: 68959.1797\n",
            "Epoch 27/100\n",
            "240/240 [==============================] - 1s 3ms/step - loss: 62954.0859\n",
            "Epoch 28/100\n",
            "240/240 [==============================] - 1s 3ms/step - loss: 57148.6211\n",
            "Epoch 29/100\n",
            "240/240 [==============================] - 1s 3ms/step - loss: 51562.1172\n",
            "Epoch 30/100\n",
            "240/240 [==============================] - 1s 3ms/step - loss: 46214.9648\n",
            "Epoch 31/100\n",
            "240/240 [==============================] - 1s 3ms/step - loss: 41123.3086\n",
            "Epoch 32/100\n",
            "240/240 [==============================] - 1s 3ms/step - loss: 36304.2227\n",
            "Epoch 33/100\n",
            "240/240 [==============================] - 1s 3ms/step - loss: 31774.7012\n",
            "Epoch 34/100\n",
            "240/240 [==============================] - 1s 3ms/step - loss: 27545.5371\n",
            "Epoch 35/100\n",
            "240/240 [==============================] - 1s 3ms/step - loss: 23631.8125\n",
            "Epoch 36/100\n",
            "240/240 [==============================] - 1s 3ms/step - loss: 20040.1816\n",
            "Epoch 37/100\n",
            "240/240 [==============================] - 1s 3ms/step - loss: 16776.7227\n",
            "Epoch 38/100\n",
            "240/240 [==============================] - 1s 3ms/step - loss: 13845.9033\n",
            "Epoch 39/100\n",
            "240/240 [==============================] - 1s 3ms/step - loss: 11246.9326\n",
            "Epoch 40/100\n",
            "240/240 [==============================] - 1s 3ms/step - loss: 8976.0645\n",
            "Epoch 41/100\n",
            "240/240 [==============================] - 1s 3ms/step - loss: 7025.3574\n",
            "Epoch 42/100\n",
            "240/240 [==============================] - 1s 3ms/step - loss: 5382.7192\n",
            "Epoch 43/100\n",
            "240/240 [==============================] - 1s 3ms/step - loss: 4030.6963\n",
            "Epoch 44/100\n",
            "240/240 [==============================] - 1s 3ms/step - loss: 2947.9849\n",
            "Epoch 45/100\n",
            "240/240 [==============================] - 1s 3ms/step - loss: 2107.2981\n",
            "Epoch 46/100\n",
            "240/240 [==============================] - 1s 3ms/step - loss: 1414.5665\n",
            "Epoch 47/100\n",
            "240/240 [==============================] - 1s 3ms/step - loss: 314.2444\n",
            "Epoch 48/100\n",
            "240/240 [==============================] - 1s 3ms/step - loss: 84.3067\n",
            "Epoch 49/100\n",
            "240/240 [==============================] - 1s 3ms/step - loss: 56.4063\n",
            "Epoch 50/100\n",
            "240/240 [==============================] - 1s 3ms/step - loss: 46.1160\n",
            "Epoch 51/100\n",
            "240/240 [==============================] - 1s 3ms/step - loss: 40.7680\n",
            "Epoch 52/100\n",
            "240/240 [==============================] - 1s 3ms/step - loss: 36.9912\n",
            "Epoch 53/100\n",
            "240/240 [==============================] - 1s 3ms/step - loss: 33.4399\n",
            "Epoch 54/100\n",
            "240/240 [==============================] - 1s 3ms/step - loss: 29.8198\n",
            "Epoch 55/100\n",
            "240/240 [==============================] - 1s 3ms/step - loss: 26.3501\n",
            "Epoch 56/100\n",
            "240/240 [==============================] - 1s 3ms/step - loss: 23.5438\n",
            "Epoch 57/100\n",
            "240/240 [==============================] - 1s 3ms/step - loss: 21.5813\n",
            "Epoch 58/100\n",
            "240/240 [==============================] - 1s 3ms/step - loss: 20.3464\n",
            "Epoch 59/100\n",
            "240/240 [==============================] - 1s 3ms/step - loss: 19.5952\n",
            "Epoch 60/100\n",
            "240/240 [==============================] - 1s 3ms/step - loss: 19.0831\n",
            "Epoch 61/100\n",
            "240/240 [==============================] - 1s 3ms/step - loss: 18.7410\n",
            "Epoch 62/100\n",
            "240/240 [==============================] - 1s 3ms/step - loss: 18.4669\n",
            "Epoch 63/100\n",
            "240/240 [==============================] - 1s 3ms/step - loss: 18.2540\n",
            "Epoch 64/100\n",
            "240/240 [==============================] - 1s 3ms/step - loss: 18.1267\n",
            "Epoch 65/100\n",
            "240/240 [==============================] - 1s 3ms/step - loss: 17.9927\n",
            "Epoch 66/100\n",
            "240/240 [==============================] - 1s 3ms/step - loss: 17.9318\n",
            "Epoch 67/100\n",
            "240/240 [==============================] - 1s 3ms/step - loss: 17.8511\n",
            "Epoch 68/100\n",
            "240/240 [==============================] - 1s 3ms/step - loss: 17.7335\n",
            "Epoch 69/100\n",
            "240/240 [==============================] - 1s 3ms/step - loss: 17.6541\n",
            "Epoch 70/100\n",
            "240/240 [==============================] - 1s 3ms/step - loss: 17.6229\n",
            "Epoch 71/100\n",
            "240/240 [==============================] - 1s 3ms/step - loss: 17.6156\n",
            "Epoch 72/100\n",
            "240/240 [==============================] - 1s 4ms/step - loss: 17.5046\n",
            "Epoch 73/100\n",
            "240/240 [==============================] - 1s 3ms/step - loss: 17.4896\n",
            "Epoch 74/100\n",
            "240/240 [==============================] - 1s 3ms/step - loss: 17.4342\n",
            "Epoch 75/100\n",
            "240/240 [==============================] - 1s 3ms/step - loss: 17.4135\n",
            "Epoch 76/100\n",
            "240/240 [==============================] - 1s 3ms/step - loss: 17.3586\n",
            "Epoch 77/100\n",
            "240/240 [==============================] - 1s 3ms/step - loss: 17.3635\n",
            "Epoch 78/100\n",
            "240/240 [==============================] - 1s 3ms/step - loss: 17.3344\n",
            "Epoch 79/100\n",
            "240/240 [==============================] - 1s 3ms/step - loss: 17.3366\n",
            "Epoch 80/100\n",
            "240/240 [==============================] - 1s 3ms/step - loss: 17.2884\n",
            "Epoch 81/100\n",
            "240/240 [==============================] - 1s 3ms/step - loss: 17.2724\n",
            "Epoch 82/100\n",
            "240/240 [==============================] - 1s 3ms/step - loss: 17.2516\n",
            "Epoch 83/100\n",
            "240/240 [==============================] - 1s 3ms/step - loss: 17.2638\n",
            "Epoch 84/100\n",
            "240/240 [==============================] - 1s 3ms/step - loss: 17.2244\n",
            "Epoch 85/100\n",
            "240/240 [==============================] - 1s 3ms/step - loss: 17.2326\n",
            "Epoch 86/100\n",
            "240/240 [==============================] - 1s 3ms/step - loss: 17.2082\n",
            "Epoch 87/100\n",
            "240/240 [==============================] - 1s 3ms/step - loss: 17.1742\n",
            "Epoch 88/100\n",
            "240/240 [==============================] - 1s 3ms/step - loss: 17.1382\n",
            "Epoch 89/100\n",
            "240/240 [==============================] - 1s 3ms/step - loss: 17.1458\n",
            "Epoch 90/100\n",
            "240/240 [==============================] - 1s 3ms/step - loss: 17.1319\n",
            "Epoch 91/100\n",
            "240/240 [==============================] - 1s 3ms/step - loss: 17.1611\n",
            "Epoch 92/100\n",
            "240/240 [==============================] - 1s 3ms/step - loss: 17.1565\n",
            "Epoch 93/100\n",
            "240/240 [==============================] - 1s 3ms/step - loss: 17.1165\n",
            "Epoch 94/100\n",
            "240/240 [==============================] - 1s 3ms/step - loss: 17.1529\n",
            "Epoch 95/100\n",
            "240/240 [==============================] - 1s 3ms/step - loss: 17.1427\n",
            "Epoch 96/100\n",
            "240/240 [==============================] - 1s 3ms/step - loss: 17.0844\n",
            "Epoch 97/100\n",
            "240/240 [==============================] - 1s 3ms/step - loss: 17.1118\n",
            "Epoch 98/100\n",
            "240/240 [==============================] - 1s 3ms/step - loss: 17.1021\n",
            "Epoch 99/100\n",
            "240/240 [==============================] - 1s 3ms/step - loss: 17.1004\n",
            "Epoch 100/100\n",
            "240/240 [==============================] - 1s 3ms/step - loss: 17.0734\n"
          ],
          "name": "stdout"
        },
        {
          "output_type": "execute_result",
          "data": {
            "text/plain": [
              "<keras.callbacks.History at 0x7f849ec77090>"
            ]
          },
          "metadata": {},
          "execution_count": 93
        }
      ]
    },
    {
      "cell_type": "markdown",
      "metadata": {
        "id": "xD0jtWmmgnSl"
      },
      "source": [
        "**Predicting the reults of Test Set**"
      ]
    },
    {
      "cell_type": "code",
      "metadata": {
        "colab": {
          "base_uri": "https://localhost:8080/"
        },
        "id": "Z1K3Ntl3ZbtM",
        "outputId": "7e27be4a-5230-4d6d-9dd3-4718591890c2"
      },
      "source": [
        "y_pred = ann.predict(x_test)\n",
        "np.set_printoptions(precision = 2)\n",
        "np.concatenate((y_test.reshape(len(y_test),1) , y_pred.reshape(len(y_pred),1)),1)"
      ],
      "execution_count": 94,
      "outputs": [
        {
          "output_type": "execute_result",
          "data": {
            "text/plain": [
              "array([[466.52, 470.36],\n",
              "       [461.73, 462.22],\n",
              "       [450.73, 453.32],\n",
              "       ...,\n",
              "       [458.07, 449.61],\n",
              "       [432.66, 436.41],\n",
              "       [430.55, 433.38]])"
            ]
          },
          "metadata": {},
          "execution_count": 94
        }
      ]
    },
    {
      "cell_type": "code",
      "metadata": {
        "id": "TfSLF638ZcCC",
        "colab": {
          "base_uri": "https://localhost:8080/"
        },
        "outputId": "42e69955-5680-4002-fe5d-c3654c80b6a7"
      },
      "source": [
        "ann.predict(sc.transform([[18,58,1010,76]]))"
      ],
      "execution_count": 95,
      "outputs": [
        {
          "output_type": "execute_result",
          "data": {
            "text/plain": [
              "array([[453.78]], dtype=float32)"
            ]
          },
          "metadata": {},
          "execution_count": 95
        }
      ]
    },
    {
      "cell_type": "code",
      "metadata": {
        "id": "NdFHUmHgmKq5"
      },
      "source": [
        ""
      ],
      "execution_count": null,
      "outputs": []
    }
  ]
}